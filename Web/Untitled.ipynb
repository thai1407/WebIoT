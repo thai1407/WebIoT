{
 "cells": [
  {
   "cell_type": "code",
   "execution_count": 12,
   "id": "7fef271f-b2ab-4fe9-8c37-08f02326ac8d",
   "metadata": {},
   "outputs": [
    {
     "ename": "ModuleNotFoundError",
     "evalue": "No module named 'paho'",
     "output_type": "error",
     "traceback": [
      "\u001b[1;31m---------------------------------------------------------------------------\u001b[0m",
      "\u001b[1;31mModuleNotFoundError\u001b[0m                       Traceback (most recent call last)",
      "Cell \u001b[1;32mIn[12], line 7\u001b[0m\n\u001b[0;32m      5\u001b[0m \u001b[38;5;28;01mimport\u001b[39;00m \u001b[38;5;21;01mrandom\u001b[39;00m\n\u001b[0;32m      6\u001b[0m \u001b[38;5;28;01mimport\u001b[39;00m \u001b[38;5;21;01mssl\u001b[39;00m\n\u001b[1;32m----> 7\u001b[0m \u001b[38;5;28;01mimport\u001b[39;00m \u001b[38;5;21;01mpaho\u001b[39;00m\u001b[38;5;21;01m.\u001b[39;00m\u001b[38;5;21;01mmqtt\u001b[39;00m\u001b[38;5;21;01m.\u001b[39;00m\u001b[38;5;21;01mclient\u001b[39;00m \u001b[38;5;28;01mas\u001b[39;00m \u001b[38;5;21;01mpaho\u001b[39;00m\n\u001b[0;32m      8\u001b[0m \u001b[38;5;28;01mimport\u001b[39;00m \u001b[38;5;21;01mpaho\u001b[39;00m\u001b[38;5;21;01m.\u001b[39;00m\u001b[38;5;21;01mmqtt\u001b[39;00m\u001b[38;5;21;01m.\u001b[39;00m\u001b[38;5;21;01msubscribe\u001b[39;00m \u001b[38;5;28;01mas\u001b[39;00m \u001b[38;5;21;01msubscribe\u001b[39;00m\n\u001b[0;32m      9\u001b[0m \u001b[38;5;28;01mfrom\u001b[39;00m \u001b[38;5;21;01mpaho\u001b[39;00m \u001b[38;5;28;01mimport\u001b[39;00m mqtt\n",
      "\u001b[1;31mModuleNotFoundError\u001b[0m: No module named 'paho'"
     ]
    }
   ],
   "source": [
    "from flask import Flask, render_template\n",
    "from flask import url_for, request, redirect\n",
    "from flask import jsonify\n",
    "from flask import make_response\n",
    "import random\n",
    "import ssl\n",
    "import paho.mqtt.client as paho\n",
    "import paho.mqtt.subscribe as subscribe\n",
    "from paho import mqtt\n",
    "import json\n",
    "import threading\n",
    "\n",
    "\n",
    "app = Flask(__name__)\n",
    "\n",
    "# Global variable to hold sensor values\n",
    "sensor_values = {\n",
    "    \"air-humidity\": 0,\n",
    "    \"dirt-humidity\": 0,\n",
    "    \"air-temperature\": 0\n",
    "}\n",
    "\n",
    "\n",
    "# callback to print a message once it arrives\n",
    "def print_msg(client, userdata, message):\n",
    "    \"\"\"\n",
    "        Prints a mqtt message to stdout ( used as callback for subscribe )\n",
    "\n",
    "        :param client: the client itself\n",
    "        :param userdata: userdata is set when initiating the client, here it is userdata=None\n",
    "        :param message: the message with topic and payload\n",
    "    \"\"\"\n",
    "    air, dirt, temp = message.payload.decode('utf-8').strip().split('-')\n",
    "    sensor_values['air-humidity'] = air\n",
    "    sensor_values['dirt-humidity'] = dirt\n",
    "    sensor_values['air-temperature'] = temp\n",
    "    # print(\"%s : %s\" % (message.topic, message.payload))\n",
    "\n",
    "\n",
    "# Function to run the MQTT client\n",
    "def run_mqtt_client():\n",
    "    # Use TLS for secure connection with HiveMQ Cloud\n",
    "    sslSettings = ssl.SSLContext(mqtt.client.ssl.PROTOCOL_TLS)\n",
    "\n",
    "    # Put in your cluster credentials and hostname\n",
    "    auth = {'username': \"Johnny\", 'password': \"Thanhtai2907\"}\n",
    "\n",
    "    # Subscribe to all topics\n",
    "    subscribe.callback(print_msg,\n",
    "                       \"#\",\n",
    "                       hostname=\"3c7b0751f151453d800143f3e1c5b8a6.s1.eu.hivemq.cloud\",\n",
    "                       port=8883,\n",
    "                       auth=auth,\n",
    "                       tls=sslSettings, protocol=paho.MQTTv31)\n",
    "\n",
    "\n",
    "# Create a new thread for the MQTT client\n",
    "mqtt_thread = threading.Thread(target=run_mqtt_client)\n",
    "# Start the thread\n",
    "mqtt_thread.start()\n",
    "\n",
    "\n",
    "@app.route(\"/\")\n",
    "@app.route(\"/home\")\n",
    "def home():\n",
    "    return render_template('index.html', air_humidity=\"0%\", temperature=\"0 degree\", dirt_humidity=\"0%\")\n",
    "\n",
    "\n",
    "@app.route(\"/get_values\", methods=[\"GET\"])\n",
    "def get_values():\n",
    "    sensor_id = request.args.get('sensorId')\n",
    "\n",
    "    value = sensor_values.get(sensor_id, 0)\n",
    "\n",
    "    return jsonify(value=value)\n",
    "\n",
    "\n",
    "if __name__ == \"__main__\":\n",
    "    app.run(debug=True)\n"
   ]
  },
  {
   "cell_type": "code",
   "execution_count": null,
   "id": "a86f8f64-9110-4852-bd48-6e05a79962a6",
   "metadata": {},
   "outputs": [],
   "source": []
  },
  {
   "cell_type": "code",
   "execution_count": null,
   "id": "49d5efb8-391f-40b5-b17b-328eb8cf3244",
   "metadata": {},
   "outputs": [],
   "source": []
  },
  {
   "cell_type": "code",
   "execution_count": null,
   "id": "cf916082-7b71-4e08-92d3-ecf842081ec9",
   "metadata": {},
   "outputs": [],
   "source": []
  },
  {
   "cell_type": "code",
   "execution_count": null,
   "id": "428658de-4322-4ceb-a550-e7cf88d65d11",
   "metadata": {},
   "outputs": [],
   "source": []
  },
  {
   "cell_type": "code",
   "execution_count": null,
   "id": "d82cd029-daeb-4b3c-8cfa-d2dd1cc6a776",
   "metadata": {},
   "outputs": [],
   "source": []
  }
 ],
 "metadata": {
  "kernelspec": {
   "display_name": "Python 3 (ipykernel)",
   "language": "python",
   "name": "python3"
  },
  "language_info": {
   "codemirror_mode": {
    "name": "ipython",
    "version": 3
   },
   "file_extension": ".py",
   "mimetype": "text/x-python",
   "name": "python",
   "nbconvert_exporter": "python",
   "pygments_lexer": "ipython3",
   "version": "3.12.4"
  }
 },
 "nbformat": 4,
 "nbformat_minor": 5
}
